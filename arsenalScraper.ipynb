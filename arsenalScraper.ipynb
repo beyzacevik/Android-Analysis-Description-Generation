{
 "cells": [
  {
   "cell_type": "code",
   "execution_count": 10,
   "metadata": {
    "scrolled": true
   },
   "outputs": [],
   "source": [
    "import pandas as pd\n",
    "from bs4 import BeautifulSoup\n",
    "from selenium import webdriver\n",
    "from selenium.webdriver.common.proxy import Proxy, ProxyType\n",
    "import time\n",
    "\n",
    "#proxy configuration for not getting 403 status\n",
    "prox = Proxy()\n",
    "prox.proxy_type = ProxyType.MANUAL\n",
    "\n",
    "\n",
    "#driver for dynamically using chrome for scraping\n",
    "capabilities = webdriver.DesiredCapabilities.CHROME\n",
    "prox.add_to_capabilities(capabilities)\n",
    "\n",
    "driver = webdriver.Chrome(desired_capabilities=capabilities)\n",
    "\n",
    "def get_key(my_dict,val): \n",
    "    for key, value in my_dict.items(): \n",
    "         if val == value: \n",
    "            return key \n",
    "    return \"key doesn't exist\"\n",
    "        \n",
    "def getBuilding(link):\n",
    "\n",
    "    driver.get(link)\n",
    "    driver.implicitly_wait(8)\n",
    "\n",
    "    soup = BeautifulSoup(driver.page_source, 'html.parser')\n",
    "    #find search results\n",
    "    main_div = soup.find_all('div', {'id':'projects'})\n",
    "    \n",
    "    lib_name_desc = dict()\n",
    "    DESCS=[]\n",
    "    detail_links = dict()\n",
    "    for div in main_div :\n",
    "        library_titles = div.find_all('div', {'class':'title'})\n",
    "\n",
    "            \n",
    "\n",
    "        for elem in library_titles:    \n",
    "            details = elem.find_all('a')\n",
    "            for info in  details:\n",
    "                if 'details' in info['href']:  \n",
    "                    detail_links[info.string] = info['href']\n",
    "\n",
    "                    \n",
    "           \n",
    "                    \n",
    "\n",
    "    lib_name_link = dict()\n",
    "    for dl in detail_links.values():\n",
    "        lib_name = get_key(detail_links, dl)\n",
    "        link = 'https://android-arsenal.com' + dl\n",
    "        driver.get(link)\n",
    "        driver.implicitly_wait(3)\n",
    "        soup = BeautifulSoup(driver.page_source, 'html.parser')\n",
    "        \n",
    "        library_details = soup.find_all('dl' ,{'class':'dl-horizontal'})\n",
    "        \n",
    "        for ld in library_details:\n",
    "            library_website_component = ld.find_all('a', {'rel': 'nofollow', 'target': '_blank'})\n",
    "            \n",
    "            for lwd in library_website_component:\n",
    "                \n",
    "                if 'http' in str(lwd.string):\n",
    "                    lib_name_link[lib_name] = lwd.string\n",
    "                    #print(lib_name, ':', lwd.string)\n",
    "\n",
    "                    \n",
    "        df1 = pd.DataFrame(list(zip( list(lib_name_link.keys()), list(lib_name_link.values()))), columns =['Name', 'Link']) \n",
    "        df1.to_csv('/Users/beyzacevik/Downloads/arsenal-library-name-database1.csv')\n",
    "    \n",
    "getBuilding('https://android-arsenal.com/tag/25?sort=rating')\n",
    "\n",
    "\n"
   ]
  },
  {
   "cell_type": "code",
   "execution_count": null,
   "metadata": {},
   "outputs": [],
   "source": []
  },
  {
   "cell_type": "code",
   "execution_count": null,
   "metadata": {},
   "outputs": [],
   "source": []
  },
  {
   "cell_type": "code",
   "execution_count": null,
   "metadata": {},
   "outputs": [],
   "source": []
  },
  {
   "cell_type": "code",
   "execution_count": null,
   "metadata": {},
   "outputs": [],
   "source": []
  },
  {
   "cell_type": "code",
   "execution_count": null,
   "metadata": {},
   "outputs": [],
   "source": []
  },
  {
   "cell_type": "code",
   "execution_count": null,
   "metadata": {},
   "outputs": [],
   "source": []
  },
  {
   "cell_type": "code",
   "execution_count": null,
   "metadata": {},
   "outputs": [],
   "source": []
  },
  {
   "cell_type": "code",
   "execution_count": null,
   "metadata": {},
   "outputs": [],
   "source": []
  },
  {
   "cell_type": "code",
   "execution_count": null,
   "metadata": {},
   "outputs": [],
   "source": []
  },
  {
   "cell_type": "code",
   "execution_count": null,
   "metadata": {},
   "outputs": [],
   "source": []
  }
 ],
 "metadata": {
  "kernelspec": {
   "display_name": "Python 3",
   "language": "python",
   "name": "python3"
  },
  "language_info": {
   "codemirror_mode": {
    "name": "ipython",
    "version": 3
   },
   "file_extension": ".py",
   "mimetype": "text/x-python",
   "name": "python",
   "nbconvert_exporter": "python",
   "pygments_lexer": "ipython3",
   "version": "3.8.3"
  }
 },
 "nbformat": 4,
 "nbformat_minor": 4
}
